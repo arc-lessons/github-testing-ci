{
 "cells": [
  {
   "cell_type": "markdown",
   "metadata": {},
   "source": [
    "# Collaborating using Pull Requests\n",
    "\n",
    "If you don't have write access to the remote repository you won't be able to push your commits and branches directly to it. To collaborate you request that someone who does have have write access pull your commits and merge them.  \n",
    "\n",
    "This can be done from the command-line with ``git request-pull``, however the user interface and user experience is much better on one of the git hosting profiders like GitHub. In fact, the social and collaborative aspect of GitHub is resposible for a lot of their succecss.\n",
    "\n",
    "Here’s the workflow:\n",
    "\n",
    "- Fork the project\n",
    " \n",
    "  - Click the fork icon in the top right\n",
    "  \n",
    "- Create a topic branch from master.\n",
    "\n",
    "  - In the drop down next to \"Branch:master\" drop it down and type the name of your new branch \n",
    "\n",
    "- Make some commits to improve the project.\n",
    "\n",
    "  - you can use the GitHub builtin editor, click on the crayon icon\n",
    "  \n",
    "- Open a Pull Request on GitHub.\n",
    "\n",
    "  - Go to the pull requests tab, then click on \"New Pull Request\"\n",
    "\n",
    "- Discuss, and optionally continue committing.\n",
    "- The project owner merges or closes the Pull Request.\n",
    "\n",
    "  - Go to the pull requests tab, you will see the open pull requests, click merge\n",
    "\n"
   ]
  },
  {
   "cell_type": "markdown",
   "metadata": {},
   "source": [
    "# Exercises\n",
    "\n",
    "## Exercise 1\n",
    "\n",
    "- The first user plays the role of the repository owner (hereafter \"A\") provides the second user playing the role of the contributor (herefter \"B\") with the repository URL\n",
    "- B forks the repository\n",
    "- B creates a branch called, for example bugfix\n",
    "- B makes a change to a file \n",
    "- B commits the change to their branch\n",
    "- B goes to the pull request tab and creates a new pull request, by comparing A's master brach to their branch\n",
    "- A gets an email notifying them of the pull request\n",
    "- A goes to the pull request tab in their repository and merges the open pull request.\n",
    "\n",
    "## Exercise 2\n",
    "\n",
    "- switch roles and repeat exercise 1 "
   ]
  },
  {
   "cell_type": "code",
   "execution_count": null,
   "metadata": {
    "collapsed": true
   },
   "outputs": [],
   "source": []
  }
 ],
 "metadata": {
  "kernelspec": {
   "display_name": "Python 3",
   "language": "python",
   "name": "python3"
  },
  "language_info": {
   "codemirror_mode": {
    "name": "ipython",
    "version": 3
   },
   "file_extension": ".py",
   "mimetype": "text/x-python",
   "name": "python",
   "nbconvert_exporter": "python",
   "pygments_lexer": "ipython3",
   "version": "3.6.0"
  }
 },
 "nbformat": 4,
 "nbformat_minor": 2
}
