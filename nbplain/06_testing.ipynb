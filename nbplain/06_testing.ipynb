{
  "cells": [
    {
      "metadata": {},
      "cell_type": "markdown",
      "source": "# Testing basics"
    },
    {
      "metadata": {},
      "cell_type": "markdown",
      "source": "## Overview:\n- **Teaching:** 5 min\n- **Exercises:** 5 min\n\n**Questions**\n- Why do I need to test?\n- What are the principles of testing?\n- How and What do I need to test?\n\n**Objectives**\n- Understand that everyone makes mistakes when they are programming.\n- Know that the best way to mitigate introducing bugs is to test your code.\n- Understand the value of positive and negative tests.\n- Understand that well written tests can also help you structure your code well.\n- Know that even if you test your code thoroughly bugs may still be lurking."
    },
    {
      "metadata": {},
      "cell_type": "markdown",
      "source": "## Introduction\n\nBugs are inevitable when writing any nontrivial piece of software. (Some estimates suggest that there are around 15-50 errors per 1000 lines of delivered code!) As developers, we want the users of our code to have confidence in its output. How can we be sure that our code is reproducible and does what it says on the tin?\n\nTesting is the process by which software is validated and allows us a to catch and correct bugs before they become a problem. In this course we aim to teach you some of the basic principles for writing good tests. We will use the powerful [pytest](https://docs.pytest.org/en/latest) framework for writing and running our tests, and will show you how to automate the testing process using [Travis](https://travis-ci.org).\n\nIn this course we will be working within Jupyter notebooks, as well as running commands in a terminal. We recommend that you open a terminal now (go the Jupyter home tab for this session, click on `New`, then select `Terminal` from the dropdown. We also suggest that you split your screen with the terminal and notebook tabs. This will make it easy to switch between them."
    },
    {
      "metadata": {},
      "cell_type": "markdown",
      "source": "## Assertions\n\nThink of a test as an experiment. We perform an experiment by running a piece of code, then validating the output against a known value.\n\nThe `assert` statement is the usual means of testing that a condition is `True`. \n\n```python\nassert condition\n```\n\nAn `AssertionError` will be raised whenever the condition is `False`.\n\nFor example:"
    },
    {
      "metadata": {
        "trusted": true
      },
      "cell_type": "code",
      "source": "assert True",
      "execution_count": 2,
      "outputs": []
    },
    {
      "metadata": {
        "trusted": true
      },
      "cell_type": "code",
      "source": "assert False",
      "execution_count": 3,
      "outputs": [
        {
          "output_type": "error",
          "ename": "AssertionError",
          "evalue": "",
          "traceback": [
            "\u001b[0;31m---------------------------------------------------------------------------\u001b[0m",
            "\u001b[0;31mAssertionError\u001b[0m                            Traceback (most recent call last)",
            "\u001b[0;32m<ipython-input-3-a871fdc9ebee>\u001b[0m in \u001b[0;36m<module>\u001b[0;34m\u001b[0m\n\u001b[0;32m----> 1\u001b[0;31m \u001b[0;32massert\u001b[0m \u001b[0;32mFalse\u001b[0m\u001b[0;34m\u001b[0m\u001b[0m\n\u001b[0m",
            "\u001b[0;31mAssertionError\u001b[0m: "
          ]
        }
      ]
    },
    {
      "metadata": {},
      "cell_type": "markdown",
      "source": "In Python 3 `True` and `False` are keywords, and are equal to `1` and `0` respectively. Hence, we can do:"
    },
    {
      "metadata": {
        "trusted": true
      },
      "cell_type": "code",
      "source": "assert True == 1\nassert False == 0",
      "execution_count": 4,
      "outputs": []
    },
    {
      "metadata": {},
      "cell_type": "markdown",
      "source": "Let's use `assert` to test the built in addition operator:"
    },
    {
      "metadata": {
        "trusted": true
      },
      "cell_type": "code",
      "source": "assert 1 + 2 == 3",
      "execution_count": 5,
      "outputs": []
    },
    {
      "metadata": {},
      "cell_type": "markdown",
      "source": "Here the condition is `1 + 2 == 3`. In our experiment we are adding the values of `1` and `2` together, then comparing the result to the known answer of `3`.\n\nSince the addition operator should be commutative, a better test would be:"
    },
    {
      "metadata": {
        "trusted": true
      },
      "cell_type": "code",
      "source": "assert 1 + 2 == 2 + 1 == 3",
      "execution_count": 6,
      "outputs": []
    },
    {
      "metadata": {},
      "cell_type": "markdown",
      "source": "We've provided a package called `mypkg` containing a single module with some functions to test. Let's load it into the current namespace:"
    },
    {
      "metadata": {
        "trusted": true
      },
      "cell_type": "code",
      "source": "from mypkg import *",
      "execution_count": 7,
      "outputs": []
    },
    {
      "metadata": {},
      "cell_type": "markdown",
      "source": "The module has its own addition function called `add`. Let's test that it works as expected:"
    },
    {
      "metadata": {
        "trusted": true
      },
      "cell_type": "code",
      "source": "help(add)",
      "execution_count": 8,
      "outputs": [
        {
          "output_type": "stream",
          "text": "Help on function add in module mypkg.mymodule:\n\nadd(x, y)\n    A function to add two numbers.\n\n",
          "name": "stdout"
        }
      ]
    },
    {
      "metadata": {
        "trusted": true
      },
      "cell_type": "code",
      "source": "assert add(2, 2) == 4",
      "execution_count": 9,
      "outputs": []
    },
    {
      "metadata": {},
      "cell_type": "markdown",
      "source": "Wow, look at that, it passed! How about another test."
    },
    {
      "metadata": {
        "trusted": true
      },
      "cell_type": "code",
      "source": "assert add(3, 3) == 6",
      "execution_count": 10,
      "outputs": []
    },
    {
      "metadata": {},
      "cell_type": "markdown",
      "source": "Fantastic! We must be brilliant programmers. Hang on, how about testing two different numbers..."
    },
    {
      "metadata": {
        "trusted": true
      },
      "cell_type": "code",
      "source": "assert add(3, 4) == add(4, 3) == 7",
      "execution_count": 11,
      "outputs": [
        {
          "output_type": "error",
          "ename": "AssertionError",
          "evalue": "",
          "traceback": [
            "\u001b[0;31m---------------------------------------------------------------------------\u001b[0m",
            "\u001b[0;31mAssertionError\u001b[0m                            Traceback (most recent call last)",
            "\u001b[0;32m<ipython-input-11-cdc63273155f>\u001b[0m in \u001b[0;36m<module>\u001b[0;34m\u001b[0m\n\u001b[0;32m----> 1\u001b[0;31m \u001b[0;32massert\u001b[0m \u001b[0madd\u001b[0m\u001b[0;34m(\u001b[0m\u001b[0;36m3\u001b[0m\u001b[0;34m,\u001b[0m \u001b[0;36m4\u001b[0m\u001b[0;34m)\u001b[0m \u001b[0;34m==\u001b[0m \u001b[0madd\u001b[0m\u001b[0;34m(\u001b[0m\u001b[0;36m4\u001b[0m\u001b[0;34m,\u001b[0m \u001b[0;36m3\u001b[0m\u001b[0;34m)\u001b[0m \u001b[0;34m==\u001b[0m \u001b[0;36m7\u001b[0m\u001b[0;34m\u001b[0m\u001b[0m\n\u001b[0m",
            "\u001b[0;31mAssertionError\u001b[0m: "
          ]
        }
      ]
    },
    {
      "metadata": {},
      "cell_type": "markdown",
      "source": "Damn, not so smart after all!\n\n**Lesson:** One test is never enough. Make sure to test a function using a range of different inputs.\n\nNow let's test the `greaterThan` function. First let's see how it works:"
    },
    {
      "metadata": {
        "trusted": true
      },
      "cell_type": "code",
      "source": "help(greaterThan)",
      "execution_count": 12,
      "outputs": [
        {
          "output_type": "stream",
          "text": "Help on function greaterThan in module mypkg.mymodule:\n\ngreaterThan(x, y)\n    Return whether x is greater than y.\n\n",
          "name": "stdout"
        }
      ]
    },
    {
      "metadata": {
        "trusted": true
      },
      "cell_type": "code",
      "source": "assert greaterThan(2, 1)\nassert greaterThan(100, 57)\nassert greaterThan(33, 15)\nassert greaterThan(999, 256)\nassert greaterThan(-67, -354)",
      "execution_count": 13,
      "outputs": []
    },
    {
      "metadata": {},
      "cell_type": "markdown",
      "source": "That's a load of tests. It must be right, surely?\n\nHang on a minute..."
    },
    {
      "metadata": {
        "trusted": true
      },
      "cell_type": "code",
      "source": "def alwaysTrue(x, y):\n    return True",
      "execution_count": 14,
      "outputs": []
    },
    {
      "metadata": {
        "trusted": true
      },
      "cell_type": "code",
      "source": "assert alwaysTrue(2, 1)\nassert alwaysTrue(100, 57)\nassert alwaysTrue(33, 15)\nassert alwaysTrue(999, 256)\nassert alwaysTrue(-67, -354)",
      "execution_count": 15,
      "outputs": []
    },
    {
      "metadata": {},
      "cell_type": "markdown",
      "source": "**Lesson:** Make sure that your test fails when you expect it to."
    },
    {
      "metadata": {
        "trusted": true
      },
      "cell_type": "code",
      "source": "assert greaterThan(1, 2)",
      "execution_count": 16,
      "outputs": [
        {
          "output_type": "error",
          "ename": "AssertionError",
          "evalue": "",
          "traceback": [
            "\u001b[0;31m---------------------------------------------------------------------------\u001b[0m",
            "\u001b[0;31mAssertionError\u001b[0m                            Traceback (most recent call last)",
            "\u001b[0;32m<ipython-input-16-3cf9a165abfc>\u001b[0m in \u001b[0;36m<module>\u001b[0;34m\u001b[0m\n\u001b[0;32m----> 1\u001b[0;31m \u001b[0;32massert\u001b[0m \u001b[0mgreaterThan\u001b[0m\u001b[0;34m(\u001b[0m\u001b[0;36m1\u001b[0m\u001b[0;34m,\u001b[0m \u001b[0;36m2\u001b[0m\u001b[0;34m)\u001b[0m\u001b[0;34m\u001b[0m\u001b[0m\n\u001b[0m",
            "\u001b[0;31mAssertionError\u001b[0m: "
          ]
        }
      ]
    },
    {
      "metadata": {},
      "cell_type": "markdown",
      "source": "Phew!\n\nIt's good to also write tests for a condtions not being met."
    },
    {
      "metadata": {
        "trusted": true
      },
      "cell_type": "code",
      "source": "assert not greaterThan(1, 2)",
      "execution_count": 17,
      "outputs": []
    },
    {
      "metadata": {},
      "cell_type": "markdown",
      "source": "## Approximate assertions\n\nSo far we have been testing conditions using integer values. What happens if we were to use floating point numbers?"
    },
    {
      "metadata": {
        "trusted": true
      },
      "cell_type": "code",
      "source": "assert 0.1 + 0.2 == 0.3",
      "execution_count": 18,
      "outputs": [
        {
          "output_type": "error",
          "ename": "AssertionError",
          "evalue": "",
          "traceback": [
            "\u001b[0;31m---------------------------------------------------------------------------\u001b[0m",
            "\u001b[0;31mAssertionError\u001b[0m                            Traceback (most recent call last)",
            "\u001b[0;32m<ipython-input-18-a0124d278012>\u001b[0m in \u001b[0;36m<module>\u001b[0;34m\u001b[0m\n\u001b[0;32m----> 1\u001b[0;31m \u001b[0;32massert\u001b[0m \u001b[0;36m0.1\u001b[0m \u001b[0;34m+\u001b[0m \u001b[0;36m0.2\u001b[0m \u001b[0;34m==\u001b[0m \u001b[0;36m0.3\u001b[0m\u001b[0;34m\u001b[0m\u001b[0m\n\u001b[0m",
            "\u001b[0;31mAssertionError\u001b[0m: "
          ]
        }
      ]
    },
    {
      "metadata": {},
      "cell_type": "markdown",
      "source": "Comparisons between floating point numbers are not exact due to the limited precision by which they are stored, and changes in the order of operations can change results. As such, we need to test that the condition is _approximately_ correct.\n\nIn the next section we will fully introduce the `pytest` framework. This comes with a useful [`approx`](https://docs.pytest.org/en/latest/builtin.html#comparing-floating-point-numbers) function for comparing floating point numbers."
    },
    {
      "metadata": {
        "trusted": true
      },
      "cell_type": "code",
      "source": "from pytest import approx\n\nassert 0.1 + 0.2 == approx(0.3)",
      "execution_count": 19,
      "outputs": []
    },
    {
      "metadata": {},
      "cell_type": "markdown",
      "source": "It also works for sequences of numbers. (And for almost all other useful data structures.)"
    },
    {
      "metadata": {
        "trusted": true
      },
      "cell_type": "code",
      "source": "assert (0.1 + 0.2, 0.2 + 0.4) == approx((0.3, 0.6))",
      "execution_count": 20,
      "outputs": []
    },
    {
      "metadata": {},
      "cell_type": "markdown",
      "source": "By default, the `approx` function compares the result using a relative tolerance of 1e-6. This can be changed by passing a keyword argument to the function."
    },
    {
      "metadata": {
        "trusted": true
      },
      "cell_type": "code",
      "source": "assert 2 + 3 == approx(7, rel=2)",
      "execution_count": 21,
      "outputs": []
    },
    {
      "metadata": {},
      "cell_type": "markdown",
      "source": "## Unit tests\n\nIn their simplest form, tests are usually just functions that encapsulate some assertions to validate a unit of code, such as a function or method. Tests like these are often referred to as *unit tests*, although the exact definiton of a *unit* is a little fuzzy. Regardless, unit tests should aim to be short and clearly defined. Aim to test one thing, and test it well."
    },
    {
      "metadata": {},
      "cell_type": "markdown",
      "source": "# Exercise\n\nBelow are two example test unit tests for the `add` and `greaterThan` functions.\n\nFind out how the `mul` and `sub` functions from `mymodule` work and fill in the stub functions, `test_mul` and `test_sub`, below with some `assert` statements that test for the expected behaviour. Run the unit tests to make sure that they pass.\n\nAdd some assertions to test the functions using floating point numbers."
    },
    {
      "metadata": {
        "trusted": true
      },
      "cell_type": "code",
      "source": "def test_add():\n    assert add(1, 2) == add(2, 1) == 3\n    assert add(3, 4) == add(4, 3) == 7\n    \ndef test_greaterThan():\n    assert greaterThan(2, 1)\n    assert greaterThan(100, 57)\n    assert greaterThan(33, 15)\n    assert greaterThan(999, 256)\n    assert greaterThan(-67, -354)\n    \ndef test_mul():\n    # Example assertions.\n    assert mul(3, 7) == mul(7, 3) == 21\n    assert mul(6.2, 4.7) == approx(mul(4.7, 6.2)) == approx(29.14)\n    assert mul(-5.3, 28.9) == approx(mul(28.9, -5.3)) == approx(-153.17)\n    \ndef test_sub():\n    # Example assertions.\n    assert sub(8, 5) == -sub(5, 8) == 3\n    assert sub(11.18, 32.71) == -sub(32.71, 11.18) == -21.53",
      "execution_count": 22,
      "outputs": []
    },
    {
      "metadata": {
        "trusted": true
      },
      "cell_type": "code",
      "source": "# Run the unit tests for the \"add\" function.\ntest_add()",
      "execution_count": 23,
      "outputs": [
        {
          "output_type": "error",
          "ename": "AssertionError",
          "evalue": "",
          "traceback": [
            "\u001b[0;31m---------------------------------------------------------------------------\u001b[0m",
            "\u001b[0;31mAssertionError\u001b[0m                            Traceback (most recent call last)",
            "\u001b[0;32m<ipython-input-23-0ed42efddc29>\u001b[0m in \u001b[0;36m<module>\u001b[0;34m\u001b[0m\n\u001b[1;32m      1\u001b[0m \u001b[0;31m# Run the unit tests for the \"add\" function.\u001b[0m\u001b[0;34m\u001b[0m\u001b[0;34m\u001b[0m\u001b[0m\n\u001b[0;32m----> 2\u001b[0;31m \u001b[0mtest_add\u001b[0m\u001b[0;34m(\u001b[0m\u001b[0;34m)\u001b[0m\u001b[0;34m\u001b[0m\u001b[0m\n\u001b[0m",
            "\u001b[0;32m<ipython-input-22-f3ef5bd7705f>\u001b[0m in \u001b[0;36mtest_add\u001b[0;34m()\u001b[0m\n\u001b[1;32m      1\u001b[0m \u001b[0;32mdef\u001b[0m \u001b[0mtest_add\u001b[0m\u001b[0;34m(\u001b[0m\u001b[0;34m)\u001b[0m\u001b[0;34m:\u001b[0m\u001b[0;34m\u001b[0m\u001b[0m\n\u001b[0;32m----> 2\u001b[0;31m     \u001b[0;32massert\u001b[0m \u001b[0madd\u001b[0m\u001b[0;34m(\u001b[0m\u001b[0;36m1\u001b[0m\u001b[0;34m,\u001b[0m \u001b[0;36m2\u001b[0m\u001b[0;34m)\u001b[0m \u001b[0;34m==\u001b[0m \u001b[0madd\u001b[0m\u001b[0;34m(\u001b[0m\u001b[0;36m2\u001b[0m\u001b[0;34m,\u001b[0m \u001b[0;36m1\u001b[0m\u001b[0;34m)\u001b[0m \u001b[0;34m==\u001b[0m \u001b[0;36m3\u001b[0m\u001b[0;34m\u001b[0m\u001b[0m\n\u001b[0m\u001b[1;32m      3\u001b[0m     \u001b[0;32massert\u001b[0m \u001b[0madd\u001b[0m\u001b[0;34m(\u001b[0m\u001b[0;36m3\u001b[0m\u001b[0;34m,\u001b[0m \u001b[0;36m4\u001b[0m\u001b[0;34m)\u001b[0m \u001b[0;34m==\u001b[0m \u001b[0madd\u001b[0m\u001b[0;34m(\u001b[0m\u001b[0;36m4\u001b[0m\u001b[0;34m,\u001b[0m \u001b[0;36m3\u001b[0m\u001b[0;34m)\u001b[0m \u001b[0;34m==\u001b[0m \u001b[0;36m7\u001b[0m\u001b[0;34m\u001b[0m\u001b[0m\n\u001b[1;32m      4\u001b[0m \u001b[0;34m\u001b[0m\u001b[0m\n\u001b[1;32m      5\u001b[0m \u001b[0;32mdef\u001b[0m \u001b[0mtest_greaterThan\u001b[0m\u001b[0;34m(\u001b[0m\u001b[0;34m)\u001b[0m\u001b[0;34m:\u001b[0m\u001b[0;34m\u001b[0m\u001b[0m\n",
            "\u001b[0;31mAssertionError\u001b[0m: "
          ]
        }
      ]
    },
    {
      "metadata": {
        "trusted": true
      },
      "cell_type": "code",
      "source": "# Run the unit tests for the \"greaterThan\" function.\ntest_greaterThan()",
      "execution_count": 25,
      "outputs": []
    },
    {
      "metadata": {
        "trusted": true
      },
      "cell_type": "code",
      "source": "test_mul()",
      "execution_count": 26,
      "outputs": []
    },
    {
      "metadata": {
        "trusted": true
      },
      "cell_type": "code",
      "source": "test_sub()",
      "execution_count": 27,
      "outputs": []
    },
    {
      "metadata": {},
      "cell_type": "markdown",
      "source": "## Key Points:\n\n- Testing is vital if you want to show that your code is correct.\n- Test all aspects of your code, use positive and negative tests.\n- If you don't test your code then no-one can use it with confidence, or any data, analysis that depends on it."
    }
  ],
  "metadata": {
    "kernelspec": {
      "name": "python36",
      "display_name": "Python 3.6",
      "language": "python"
    },
    "language_info": {
      "mimetype": "text/x-python",
      "nbconvert_exporter": "python",
      "name": "python",
      "pygments_lexer": "ipython3",
      "version": "3.6.6",
      "file_extension": ".py",
      "codemirror_mode": {
        "version": 3,
        "name": "ipython"
      }
    }
  },
  "nbformat": 4,
  "nbformat_minor": 2
}