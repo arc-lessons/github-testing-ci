{
 "cells": [
  {
   "cell_type": "markdown",
   "metadata": {},
   "source": [
    "# Syncing to a Remote Repository"
   ]
  },
  {
   "cell_type": "markdown",
   "metadata": {},
   "source": [
    "## Overview:\n",
    "- **Teaching:** 10 min\n",
    "- **Exercises:** 5 min\n",
    "\n",
    "**Questions**\n",
    "- What are branches?\n",
    "- How should I use branches?\n",
    "- Once I've made my changes in the branch how do I merge them back?\n",
    "\n",
    "**Objectives**\n",
    "- Know that branches can be used to compartmentalise different pieces of work.\n",
    "- Understand how and when to create branches."
   ]
  },
  {
   "cell_type": "markdown",
   "metadata": {},
   "source": [
    "A remote repository is just another copy of the git repository to which yours is linked. It can be on the same computer in a different file location, on a different computer, for example a departmental server, on the laptop of a collaborator who is also working with you or on a git hosting service."
   ]
  },
  {
   "cell_type": "markdown",
   "metadata": {},
   "source": [
    "## Git Hosting\n",
    "\n",
    "The main sites are\n",
    "\n",
    "- github\n",
    "\n",
    "  - Business model is organisation repo hosting\n",
    "  - Public repos and limited private for free \n",
    "  - [Student developer package](https://education.github.com/pack)\n",
    "  \n",
    "- bitbucket\n",
    "- gitlab\n",
    "\n",
    "  - can be on premise e.g. at [Bath](https://github.bath.ac.uk)\n",
    "  "
   ]
  },
  {
   "cell_type": "markdown",
   "metadata": {},
   "source": [
    "## Create a Repository on GitHub\n",
    "\n",
    "You create a new repository by clicking the green \"New Repository\", give it a name, and optionally a description, licence, gitignore and README.\n",
    "\n",
    "Once the repository has been set up click on the `Clone` button and copy the code required to clne the repository:\n",
    "\n",
    "```bash\n",
    "git clone https://github.com/<your-git-username>/<your-respository>.git\n",
    "```"
   ]
  },
  {
   "cell_type": "markdown",
   "metadata": {},
   "source": [
    "## Information:\n",
    "\n",
    "When you clone the repository make sure you don't clone into an existing repository!"
   ]
  },
  {
   "cell_type": "markdown",
   "metadata": {},
   "source": [
    "## Authentication\n",
    "\n",
    "When we cloned the repository earlier that was a read only operation at the remote end. Now we are going to write to the remote repository we need to be authorised to do it. To avoid having to repeatedly put in the passowrd we'll ask git to cache the credentials\n",
    "\n",
    "```bash\n",
    "git config credential.helper cache\n",
    "```\n",
    "\n",
    "Alternatively you can use [ssh keys](https://help.github.com/en/enterprise/2.16/user/articles/generating-a-new-ssh-key-and-adding-it-to-the-ssh-agent) to manage [github authentication](https://help.github.com/en/enterprise/2.15/user/articles/adding-a-new-ssh-key-to-your-github-account)."
   ]
  },
  {
   "cell_type": "markdown",
   "metadata": {},
   "source": [
    "## git remote\n",
    "\n",
    "`git remote` informs you which remotes are set up for your local copy of the repository:\n",
    "```bash\n",
    "git remote\n",
    "origin\n",
    "```\n",
    "and if you add the `-v` flag gives the full location of your remote repositories:\n",
    "\n",
    "```bash\n",
    "git remote -v\n",
    "origin\thttps://github.com/christopheredsall/workshop-test.git (fetch)\n",
    "origin\thttps://github.com/christopheredsall/workshop-test.git (push)\n",
    "```"
   ]
  },
  {
   "cell_type": "markdown",
   "metadata": {},
   "source": [
    "## git fetch\n",
    "\n",
    "Fetch copies a remote branch to your local machine, but does not merge it with your local branch.\n",
    "\n",
    "```bash\n",
    "git fetch\n",
    "remote: Counting objects: 3, done.\n",
    "remote: Compressing objects: 100% (2/2), done.\n",
    "Unpacking objects: 100% (3/3), done.\n",
    "remote: Total 3 (delta 0), reused 0 (delta 0), pack-reused 0\n",
    "From https://github.com/christopheredsall/workshop-test\n",
    "   582e532..765c3bb  master     -> origin/master\n",
    "```"
   ]
  },
  {
   "cell_type": "markdown",
   "metadata": {},
   "source": [
    "## git pull\n",
    "\n",
    "If you want to fetch and merge a remote then `git pull` does a `git fetch` followed by a `git merge`\n",
    "\n",
    "```bash\n",
    "git status\n",
    "On branch master\n",
    "Your branch is behind 'origin/master' by 1 commit, and can be fast-forwarded.\n",
    "  (use \"git pull\" to update your local branch)\n",
    "nothing to commit, working directory clean\n",
    "```\n",
    "\n",
    "```bash\n",
    "git pull\n",
    "Updating 582e532..765c3bb\n",
    "Fast-forward\n",
    " file2.md | 1 +\n",
    " 1 file changed, 1 insertion(+)\n",
    " create mode 100644 file2.md\n",
    "```"
   ]
  },
  {
   "cell_type": "markdown",
   "metadata": {},
   "source": [
    "## git push\n",
    "\n",
    "If we have made changes to our local repository we want to get them in to the remote. We use the `git push` command to do that. The first time through it will give you a warning about how the default behavour has changed. You can do what it suggests to get rid of the warning next time\n",
    "\n",
    "```bash\n",
    "git config --global push.default simple\n",
    "```\n",
    "\n",
    "```bash\n",
    "git push\n",
    "Username for 'https://github.com': christopheredsall\n",
    "Password for 'https://christopheredsall@github.com': \n",
    "Counting objects: 3, done.\n",
    "Delta compression using up to 16 threads.\n",
    "Compressing objects: 100% (2/2), done.\n",
    "Writing objects: 100% (3/3), 320 bytes | 0 bytes/s, done.\n",
    "Total 3 (delta 0), reused 0 (delta 0)\n",
    "To https://github.com/christopheredsall/workshop-test.git\n",
    "   765c3bb..e031f0f  master -> master\n",
    "```"
   ]
  },
  {
   "cell_type": "markdown",
   "metadata": {},
   "source": [
    "# Exercises"
   ]
  },
  {
   "cell_type": "markdown",
   "metadata": {},
   "source": [
    "## Exercise: 1\n",
    "\n",
    "- create a repository on github\n",
    "- clone the repository\n",
    "\n",
    "```bash\n",
    "git clone https://github.com/christopheredsall/workshop-test.git\n",
    "```\n",
    "\n",
    "- find the name of the remote repository\n",
    "\n",
    "It is called origin by default\n",
    "\n",
    "```bash\n",
    "git remote\n",
    "```\n",
    "\n",
    "- find the URL of the remote repository\n",
    "\n",
    "```bash\n",
    "git remote -v\n",
    "```"
   ]
  },
  {
   "cell_type": "markdown",
   "metadata": {},
   "source": [
    "## Exercise: 2\n",
    "\n",
    "- Edit a file in the github interface and commit it\n",
    "- pull the commit to you local repository\n",
    "\n",
    "```bash\n",
    "git pull\n",
    "```"
   ]
  },
  {
   "cell_type": "markdown",
   "metadata": {},
   "source": [
    "## Exercise: 3\n",
    "\n",
    "- make a local change and commit it\n",
    "\n",
    "```bash\n",
    "nano new.md\n",
    "git add new.md\n",
    "git commit -m \"some new work from my laptop\"\n",
    "```\n",
    "\n",
    "- push to github\n",
    "\n",
    "```bash\n",
    "git config --global push.default simple\n",
    "git push \n",
    "```"
   ]
  },
  {
   "cell_type": "markdown",
   "metadata": {},
   "source": [
    "## Key Points:\n",
    "\n",
    "- You can make use of free git hosting services to backup and simplify collaborating with your colleagues.\n",
    "- Some organisations also provide private hosted solutions e.g [Bath github](https://github.bath.ac.uk)\n",
    "- If you are working with remotes fetch and merge changes with `git pull`\n",
    "- Once you have merged with your changes you can `git push` changes to the remote."
   ]
  }
 ],
 "metadata": {
  "kernelspec": {
   "display_name": "Python 3",
   "language": "python",
   "name": "python3"
  },
  "language_info": {
   "codemirror_mode": {
    "name": "ipython",
    "version": 3
   },
   "file_extension": ".py",
   "mimetype": "text/x-python",
   "name": "python",
   "nbconvert_exporter": "python",
   "pygments_lexer": "ipython3",
   "version": "3.7.3"
  }
 },
 "nbformat": 4,
 "nbformat_minor": 2
}
