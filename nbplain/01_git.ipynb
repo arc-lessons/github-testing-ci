{
 "cells": [
  {
   "cell_type": "markdown",
   "metadata": {},
   "source": [
    "# Revisit Version Control and Git"
   ]
  },
  {
   "cell_type": "markdown",
   "metadata": {},
   "source": [
    "## Overview:\n",
    "- **Teaching:** 5 min\n",
    "- **Exercises:** 5 min\n",
    "\n",
    "**Questions**\n",
    "- What is version control and when should you use it?\n",
    "- What programs can I use for version control?\n",
    "\n",
    "**Objectives**\n",
    "- Know that version control can be used to keep track of changes to your work\n",
    "- Understand that used correctly version control helps you to understand what and why you did something in the past\n",
    "- Git can be used to easily back up your work remotely"
   ]
  },
  {
   "cell_type": "markdown",
   "metadata": {},
   "source": [
    "# Why Use Version Control ?\n",
    "\n",
    "- Have you ever been coding on a project that was working, made a change the broke it and weren't able to get back to a working state?\n",
    "\n",
    "- Have you wondered why you made a particular change to your code aboaut a year ago\n",
    "\n",
    "- Is all your analysis and the code only on your laptop which might blow up / get stolen / be left behind somewhere? If you did back it up how long ago was that, could you recreate all the work since then from memory?\n",
    "\n",
    "- In years gone by open source software was distributed as compressed tar archives. Nowadays it is common to point people to a git repository.\n",
    "\n",
    "- A repository enables us to collaborate with others.\n",
    "\n",
    "- Many tools now integrate with version controol tools, e.g. IDEs, Code Review tools, Continuous Integration / Continuous Deployment\n",
    "\n",
    "- You can use a service like [Zenodo](https://zenodo.org/) to register DOIs (citable references) for particular versions of your software\n",
    "\n",
    "![Final.doc](http://swcarpentry.github.io/git-novice/fig/phd101212s.png)\n",
    "*(c)Jorge Cham http://phdcomics.com/*"
   ]
  },
  {
   "cell_type": "markdown",
   "metadata": {},
   "source": [
    "# Exercises\n",
    "\n",
    "## Exercise 1\n",
    "\n",
    "- Open a new terminal in JupyterHub\n",
    "- Check git is installed\n",
    "- Clone a git repository from the URL https://github.com/githubtraining/example-basic.git "
   ]
  },
  {
   "cell_type": "markdown",
   "metadata": {},
   "source": [
    "## Using the Terminal in JupyterHub\n",
    "\n",
    "![start-terminal-jupyterhub.png](assets/start-terminal-jupyterhub.png)"
   ]
  },
  {
   "cell_type": "code",
   "execution_count": 1,
   "metadata": {},
   "outputs": [
    {
     "name": "stdout",
     "output_type": "stream",
     "text": [
      "usage: git [--version] [--help] [-c name=value]\n",
      "           [--exec-path[=<path>]] [--html-path] [--man-path] [--info-path]\n",
      "           [-p|--paginate|--no-pager] [--no-replace-objects] [--bare]\n",
      "           [--git-dir=<path>] [--work-tree=<path>] [--namespace=<name>]\n",
      "           <command> [<args>]\n",
      "\n",
      "The most commonly used git commands are:\n",
      "   add        Add file contents to the index\n",
      "   bisect     Find by binary search the change that introduced a bug\n",
      "   branch     List, create, or delete branches\n",
      "   checkout   Checkout a branch or paths to the working tree\n",
      "   clone      Clone a repository into a new directory\n",
      "   commit     Record changes to the repository\n",
      "   diff       Show changes between commits, commit and working tree, etc\n",
      "   fetch      Download objects and refs from another repository\n",
      "   grep       Print lines matching a pattern\n",
      "   init       Create an empty Git repository or reinitialize an existing one\n",
      "   log        Show commit logs\n",
      "   merge      Join two or more development histories together\n",
      "   mv         Move or rename a file, a directory, or a symlink\n",
      "   pull       Fetch from and merge with another repository or a local branch\n",
      "   push       Update remote refs along with associated objects\n",
      "   rebase     Forward-port local commits to the updated upstream head\n",
      "   reset      Reset current HEAD to the specified state\n",
      "   rm         Remove files from the working tree and from the index\n",
      "   show       Show various types of objects\n",
      "   status     Show the working tree status\n",
      "   tag        Create, list, delete or verify a tag object signed with GPG\n",
      "\n",
      "'git help -a' and 'git help -g' lists available subcommands and some\n",
      "concept guides. See 'git help <command>' or 'git help <concept>'\n",
      "to read about a specific subcommand or concept.\n"
     ]
    }
   ],
   "source": [
    "%%bash2\n",
    "git"
   ]
  },
  {
   "cell_type": "code",
   "execution_count": 3,
   "metadata": {},
   "outputs": [
    {
     "name": "stdout",
     "output_type": "stream",
     "text": [
      "git version 1.8.3.1\n"
     ]
    }
   ],
   "source": [
    "%%bash2\n",
    "git --version"
   ]
  },
  {
   "cell_type": "code",
   "execution_count": null,
   "metadata": {},
   "outputs": [],
   "source": [
    "%%bash2\n",
    "git clone https://github.com/githubtraining/example-basic.git"
   ]
  },
  {
   "cell_type": "markdown",
   "metadata": {
    "collapsed": true
   },
   "source": [
    "## Information:\n",
    "\n",
    "In order to manage the training material we will use the `%%bash2` magic in code cells.  You should ignore this line wherever you see it, and like the demonstrator enter the commands in the terminal window."
   ]
  },
  {
   "cell_type": "markdown",
   "metadata": {},
   "source": [
    "## Key Points:\n",
    "- Version control is a valuable tool to keep track of your code, documents, even your data\n",
    "- `git` is becoming the standard tool for version control\n",
    "- We will use `git` on the command line but numerous GUI packages exist.\n",
    "- We will use [Github](github.com) for remotes but other free options include [Bitbucket](bitbucket.org) and [Gitlab](gitlab.com)"
   ]
  }
 ],
 "metadata": {
  "kernelspec": {
   "display_name": "Python 3",
   "language": "python",
   "name": "python3"
  },
  "language_info": {
   "codemirror_mode": {
    "name": "ipython",
    "version": 3
   },
   "file_extension": ".py",
   "mimetype": "text/x-python",
   "name": "python",
   "nbconvert_exporter": "python",
   "pygments_lexer": "ipython3",
   "version": "3.7.3"
  }
 },
 "nbformat": 4,
 "nbformat_minor": 2
}
