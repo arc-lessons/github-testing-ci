{
  "cells": [
    {
      "metadata": {
        "slideshow": {
          "slide_type": "slide"
        }
      },
      "cell_type": "markdown",
      "source": "# Using Github, Testing and Continuous Integration\n\nIf you have started writing programmes in Python and are not already using version control to manage your code and testing to validate it's behaviour, you need to start.  This lesson will revise use of `git` to manage your code and documents to help you keep track of changes and collaborate with your colleagies.  It covers the key techniques used in professional software development to allow you to work efficiently and confidently."
    },
    {
      "metadata": {
        "slideshow": {
          "slide_type": "slide"
        }
      },
      "cell_type": "markdown",
      "source": "## Prerequisites:\n\nTo complete this lesson you should be familiar with:\n- Writing programs in Python\n- Working on the command line\n- Using git for version control\n- Wanting to make sure that your code is correct"
    },
    {
      "metadata": {
        "slideshow": {
          "slide_type": "slide"
        }
      },
      "cell_type": "markdown",
      "source": "## Schedule:\n\n| Time | Episode | Description |\n|---|---|---|\n| 0:00 | [Review Git](01_git.ipynb) | How to run git from a Jupyter notebook |\n| 0:10 | [Workflows](02_workflows.ipynb) | Revise git commands and workflows |\n| 0:20 | [Branching](03_branching.ipynb) | Create, modify and merge branches |\n| 0:35 | [Remotes](04_remotes.ipynb) | Synching with remotes on Github |\n| 0:50 | [Rull_requests](05_pull_requests.ipynb) | How to collaborate with pull requests |\n| 1:10 | [Testing](06_testing.ipynb) | What is testing? |\n| 1:20 | [Running Pytest](07_pytest_run.ipynb) | Running your tests with Pytest |\n| 1:40 | [Writing Pytests](08_pytest_write.ipynb) | Writing test for pytest |\n| 2:00 | [Edge and Corner Cases](09_edge_cases.ipynb) | What are edge/corner cases |\n| 2:20 | [Advanced Testing](10_advanced_testing.ipynb) | Creating more complicated tests |\n| 2:40 | [Continuous Integration](11_continuous_integration.ipynb) | Automate your testing |\n"
    },
    {
      "metadata": {
        "slideshow": {
          "slide_type": "slide"
        }
      },
      "cell_type": "markdown",
      "source": "## Setup:\n\nLog on to [notebooks.azure.com](https://notebooks.azure.com), clone the [lesson library](https://notebooks.azure.com/jgrant/projects/github-testing-ci) and click `Run on Free ...` to start the lesson."
    }
  ],
  "metadata": {
    "celltoolbar": "Slideshow",
    "kernelspec": {
      "name": "python3",
      "display_name": "Python 3",
      "language": "python"
    },
    "language_info": {
      "mimetype": "text/x-python",
      "nbconvert_exporter": "python",
      "name": "python",
      "file_extension": ".py",
      "version": "3.5.4",
      "pygments_lexer": "ipython3",
      "codemirror_mode": {
        "version": 3,
        "name": "ipython"
      }
    }
  },
  "nbformat": 4,
  "nbformat_minor": 2
}