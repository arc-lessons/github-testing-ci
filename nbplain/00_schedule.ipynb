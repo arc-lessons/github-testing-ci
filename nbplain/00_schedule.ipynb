{
 "cells": [
  {
   "cell_type": "markdown",
   "metadata": {
    "slideshow": {
     "slide_type": "slide"
    }
   },
   "source": [
    "# Functions and Classes in Python\n",
    "\n",
    "If you have started writing programmes in Python, you will likely have reached the stage where you want to improve the structure of your program.  This lesson will Jupyter notebooks to revise functions as well as Python's list and dictionary data structures before introducing classes.  It forms part of the Intermediate Programming in Python course to help you develop your own modules and collaborate with other developers."
   ]
  },
  {
   "cell_type": "markdown",
   "metadata": {
    "slideshow": {
     "slide_type": "slide"
    }
   },
   "source": [
    "## Prerequisites:\n",
    "\n",
    "To complete this lesson you should be familiar with:\n",
    "* Writing programs in Python"
   ]
  },
  {
   "cell_type": "markdown",
   "metadata": {
    "slideshow": {
     "slide_type": "slide"
    }
   },
   "source": [
    "## Schedule:\n",
    "\n",
    "| Time | Episode | Description |\n",
    "|---|---|---|\n",
    "| 0:00 | [Review Jupyter Notebooks](01_jupyter.ipynb) | How to use a jupyter notebook |\n",
    "| 0:15 | [Lists](02_lists.ipynb) | Revise Python Lists |\n",
    "| 0:30 | [Dictionaries](03_dictionaries.ipynb) | Python Dicts |\n",
    "| 0:45 | [Functions](04_functions.ipynb) | Revise Functions in Python |\n",
    "| 1:00 | [Objects](05_objects.ipynb) | What are Python Objects? |\n",
    "| 1:30 | [Classes](06_classes.ipynb) | What are Python Classes? |"
   ]
  },
  {
   "cell_type": "markdown",
   "metadata": {
    "slideshow": {
     "slide_type": "slide"
    }
   },
   "source": [
    "## Setup:\n",
    "\n",
    "Log on to [notebooks.azure.com](https://notebooks.azure.com) and clone the lesson library ***add link.***"
   ]
  }
 ],
 "metadata": {
  "celltoolbar": "Slideshow",
  "kernelspec": {
   "display_name": "Python 3",
   "language": "python",
   "name": "python3"
  },
  "language_info": {
   "codemirror_mode": {
    "name": "ipython",
    "version": 3
   },
   "file_extension": ".py",
   "mimetype": "text/x-python",
   "name": "python",
   "nbconvert_exporter": "python",
   "pygments_lexer": "ipython3",
   "version": "3.7.3"
  }
 },
 "nbformat": 4,
 "nbformat_minor": 2
}
